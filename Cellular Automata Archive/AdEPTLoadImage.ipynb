{
 "cells": [
  {
   "cell_type": "code",
   "execution_count": 1,
   "metadata": {
    "collapsed": false,
    "scrolled": true
   },
   "outputs": [
    {
     "name": "stdout",
     "output_type": "stream",
     "text": [
      "OpenCV Version : 3.1.0 \n"
     ]
    }
   ],
   "source": [
    "# Modules Required\n",
    "import numpy as np\n",
    "import cv2\n",
    "from matplotlib import pyplot as plt\n",
    "from matplotlib import ticker as plticker\n",
    "from matplotlib import rcParams\n",
    "from brewer2mpl import brewer2mpl\n",
    "# import seaborn as sns\n",
    "\n",
    "print \"OpenCV Version : %s \" % cv2.__version__"
   ]
  },
  {
   "cell_type": "code",
   "execution_count": 2,
   "metadata": {
    "collapsed": false,
    "scrolled": true
   },
   "outputs": [],
   "source": [
    "##########################################################################################\n",
    "# rcParams (Publication Quality Graphs)\n",
    "\n",
    "fig_width_pt = 246.0  \t\t\t\t\t# Get this from LaTeX using \\showthe\\columnwidth\n",
    "inches_per_pt = 1.0/72.27               # Convert pt to inch\n",
    "golden_mean = (np.sqrt(5)-1.0)/2.0 \t\t# Aesthetic ratio\n",
    "fig_width = fig_width_pt*inches_per_pt\t# Width in inches\n",
    "fig_height = fig_width*golden_mean \t\t# Height in inches\n",
    "#fig_size =  [fig_width, fig_height]\n",
    "#fig_size =  [7.3,4.2]\n",
    "#fig_size =  [4.2,7.3]\n",
    "fig_size =  [7.3,7.3]\n",
    "params = {'backend': 'pdf',\n",
    "          'axes.labelsize': 10,\n",
    "          'legend.fontsize':9,\n",
    "          'xtick.labelsize': 10,\n",
    "          'ytick.labelsize': 10,\n",
    "          'font.family': 'sans-serif',\n",
    "          'font.sans-serif': 'Avant Garde',\n",
    "          'font.size': 9,\n",
    "          'text.usetex': False,\n",
    "          'figure.figsize': fig_size}\n",
    "\n",
    "rcParams.update(params)"
   ]
  },
  {
   "cell_type": "code",
   "execution_count": 3,
   "metadata": {
    "collapsed": false,
    "scrolled": true
   },
   "outputs": [
    {
     "name": "stdout",
     "output_type": "stream",
     "text": [
      "Size of imgXZ: 16.0 MB\n",
      "Size of imgYZ: 16.0 MB\n"
     ]
    }
   ],
   "source": [
    "# Load the Geant4 simulation images\n",
    "XZ = 'Data/Electron_100_MeV_XZ.jpg'\n",
    "YZ = 'Data/Electron_100_MeV_YZ.jpg'\n",
    "imgXZ = cv2.imread(XZ,cv2.IMREAD_GRAYSCALE)\n",
    "imgYZ = cv2.imread(YZ,cv2.IMREAD_GRAYSCALE)\n",
    "\n",
    "# Get the dimensions of the two images\n",
    "rowsXZ,colsXZ = imgXZ.shape\n",
    "rowsYZ,colsYZ = imgYZ.shape\n",
    "\n",
    "# Find all the hits (pixel value > 0)\n",
    "imgXZHits = np.column_stack(np.where(imgXZ>0))\n",
    "imgYZHits = np.column_stack(np.where(imgYZ>0))\n",
    "\n",
    "# Sort all the hits\n",
    "# First by column 1 in ascending order \n",
    "# Then by column 0 in ascending order\n",
    "imgXZHits = imgXZHits[np.lexsort((imgXZHits[:, 0],imgXZHits[:, 1]))]\n",
    "imgYZHits = imgYZHits[np.lexsort((imgYZHits[:, 0],imgYZHits[:, 1]))]\n",
    "\n",
    "# Size of images (Bytes)\n",
    "print 'Size of imgXZ:', imgXZ.nbytes/1E6, 'MB'\n",
    "print 'Size of imgYZ:', imgXZ.nbytes/1E6, 'MB'\n"
   ]
  },
  {
   "cell_type": "code",
   "execution_count": 6,
   "metadata": {
    "collapsed": false
   },
   "outputs": [
    {
     "name": "stdout",
     "output_type": "stream",
     "text": [
      "Figured saved to: Edep_10B4C_wTHGEM_5mm_Drift.pdf\n"
     ]
    }
   ],
   "source": [
    "##########################################################################################\n",
    "# Histogram the number of electrons per voxel\n",
    "numBins = 5\n",
    "\n",
    "# Create histogram\n",
    "figElectrons, axElectrons = plt.subplots()\n",
    "\n",
    "# Draw histogram\n",
    "H = axElectrons.hist(imgXZ[imgXZHits[:, 0],imgXZHits[:, 1]], bins=numBins, range=[0., 5.], histtype='step', normed=False, linewidth=0.60)\n",
    "\n",
    "# Figure Properties\n",
    "axElectrons.set_xlabel('Ionization Electrons')\n",
    "axElectrons.set_ylabel('Counts')   \n",
    "# axElectrons.set_xlim(np.min(H[1]), np.max(H[1]))\n",
    "# axElectrons.set_ylim(0., 1000.)\n",
    "\n",
    "# Legend\n",
    "lg = plt.legend(loc='best')\n",
    "# lg.draw_frame(False)\n",
    "\n",
    "# Save the figure \n",
    "FilenameSave = 'Edep_10B4C_wTHGEM_5mm_Drift.pdf'\n",
    "figElectrons.tight_layout(pad=0.2)\t\t# Make the figure use all available whitespace\n",
    "figElectrons.savefig(FilenameSave)\n",
    "print('Figured saved to: ' + FilenameSave)\n",
    "\n",
    "# Close the figure\n",
    "plt.close(figElectrons)"
   ]
  },
  {
   "cell_type": "code",
   "execution_count": null,
   "metadata": {
    "collapsed": true
   },
   "outputs": [],
   "source": []
  }
 ],
 "metadata": {
  "celltoolbar": "Raw Cell Format",
  "kernelspec": {
   "display_name": "Python 2",
   "language": "python",
   "name": "python2"
  },
  "language_info": {
   "codemirror_mode": {
    "name": "ipython",
    "version": 2
   },
   "file_extension": ".py",
   "mimetype": "text/x-python",
   "name": "python",
   "nbconvert_exporter": "python",
   "pygments_lexer": "ipython2",
   "version": "2.7.11"
  }
 },
 "nbformat": 4,
 "nbformat_minor": 0
}
