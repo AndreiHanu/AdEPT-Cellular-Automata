{
 "cells": [
  {
   "cell_type": "markdown",
   "metadata": {},
   "source": [
    "# Exploring cellular automata for track finding in simulated Geant4 data\n",
    "### Andrei R. Hanu - andrei.hanu@nasa.gov\n",
    "\n",
    "The cellular automaton method was first applied for pattern recognition in particle detectors in 1992 and has evolved since then. The algorithm I used in this example is based on the most recent described in the literature with modifications that account for the fact that AdEPT has no “a priori” knowledge of the interaction point, or incident particle direction, since detector has approximately 4$\\pi$ sensitivity.\n",
    "\n",
    "References:\n",
    "\n",
    "+ Back, J. J., et al. \"Implementation of a cellular automaton algorithm for neutrino interaction reconstruction in a liquid argon volume.\" The European Physical Journal C 73.10 (2013): 1-8.\n",
    "\n",
    "+ Frühwirth, Rudolf, et al. \"Track finding in silicon trackers with a small number of layers.\" Nuclear Instruments and Methods in Physics Research Section A: Accelerators, Spectrometers, Detectors and Associated Equipment 732 (2013): 95-98.\n",
    "\n",
    "+ Glattauer, Robin, et al. \"Forward Tracking in the ILD Detector.\" arXiv preprint arXiv:1202.2761 (2012).\n",
    "\n",
    "In a traditional cellular automaton, the cell is usually represented by a pixel in an image that describes a cell as either dead or alive. For particle tracking applications, this definion of a cell cannot be used since we know with hit certainty the location of where that particle deposited it's energy. Instead, we are trying to determine the most likely path that the particle took by \"stringing together\" a collection of hits. As such, the definition of a cell is changed from its original pixel type nature to that of a connection between two detector hits which we call a track segment.\n",
    "\n",
    "The algorithm consists of three steps: (1) state initialization, (2) finite state evolution, and (3) post-processing.\n"
   ]
  },
  {
   "cell_type": "code",
   "execution_count": 2,
   "metadata": {
    "collapsed": true
   },
   "outputs": [],
   "source": [
    "# Matplotlib & other data plotting libraries\n",
    "from matplotlib import pyplot as plt\n",
    "from matplotlib import ticker as plticker\n",
    "from matplotlib import collections as mc\n",
    "from matplotlib.colors import Normalize\n",
    "from matplotlib import rcParams\n",
    "from mpl_toolkits.axes_grid1 import ImageGrid\n",
    "from mpl_toolkits.axes_grid1.inset_locator import zoomed_inset_axes\n",
    "from mpl_toolkits.axes_grid1.inset_locator import mark_inset\n",
    "\n",
    "import seaborn\n",
    "from brewer2mpl import brewer2mpl\n",
    "\n",
    "# Python Iteration\n",
    "import itertools\n",
    "\n",
    "# Numpy \n",
    "import numpy as np\n",
    "\n",
    "# OpenCV\n",
    "import cv2\n",
    "\n",
    "# Python timing module\n",
    "import timeit\n",
    "\n",
    "# Show matplotlib figures inline the notebook\n",
    "%matplotlib inline"
   ]
  },
  {
   "cell_type": "code",
   "execution_count": 3,
   "metadata": {
    "collapsed": true
   },
   "outputs": [],
   "source": [
    "##########################################################################################\n",
    "# rcParams (Publication Quality Graphs)\n",
    "\n",
    "fig_width_pt = 246.0  \t\t\t\t\t# Get this from LaTeX using \\showthe\\columnwidth\n",
    "inches_per_pt = 1.0/72.27               # Convert pt to inch\n",
    "golden_mean = (np.sqrt(5)-1.0)/2.0 \t\t# Aesthetic ratio\n",
    "fig_width = fig_width_pt*inches_per_pt\t# Width in inches\n",
    "fig_height = fig_width*golden_mean \t\t# Height in inches\n",
    "#fig_size =  [fig_width, fig_height]\n",
    "fig_size =  [7.3,4.2]\n",
    "params = {'backend': 'pdf',\n",
    "\t\t'axes.labelsize': 16,\n",
    "\t\t'legend.fontsize':16,\n",
    "\t\t'xtick.labelsize': 16,\n",
    "\t\t'ytick.labelsize': 16,\n",
    "\t\t'font.family': 'sans-serif',\n",
    "\t\t'font.sans-serif': 'Avant Garde',\n",
    "\t\t'font.size': 16,\n",
    "\t\t'text.usetex': True,\n",
    "\t\t'figure.figsize': fig_size}\n",
    "\n",
    "rcParams.update(params)"
   ]
  },
  {
   "cell_type": "markdown",
   "metadata": {},
   "source": [
    "# Load the simulation images from Geant4\n",
    "\n",
    "Description of the images."
   ]
  },
  {
   "cell_type": "code",
   "execution_count": 4,
   "metadata": {
    "scrolled": false
   },
   "outputs": [],
   "source": [
    "# Load the Geant4 simulation images\n",
    "imgXZ = cv2.imread('Data/electrons/e-_5MeV_XZ_event_0.png',cv2.IMREAD_GRAYSCALE)\n",
    "imgYZ = cv2.imread('Data/electrons/e-_5MeV_YZ_event_0.png',cv2.IMREAD_GRAYSCALE)\n",
    "\n",
    "# Get the dimensions of the two images\n",
    "rowsXZ,colsXZ = imgXZ.shape\n",
    "rowsYZ,colsYZ = imgYZ.shape\n",
    "\n",
    "# Crop the images\n",
    "# imgXZ = imgXZ[1520:1820,2050:2350]\n",
    "# imgYZ = imgYZ[1520:1820,2050:2350]\n",
    "\n",
    "# Find all the hits (pixel value > 0)\n",
    "imgXZHits = np.column_stack(np.where(imgXZ>0))\n",
    "imgYZHits = np.column_stack(np.where(imgYZ>0))\n",
    "\n",
    "# Sort all the hits\n",
    "# First by column 1 in ascending order \n",
    "# Then by column 0 in ascending order\n",
    "imgXZHits = imgXZHits[np.lexsort((imgXZHits[:, 0],imgXZHits[:, 1]))]\n",
    "imgYZHits = imgYZHits[np.lexsort((imgYZHits[:, 0],imgYZHits[:, 1]))]\n",
    "\n",
    "# Size of images (Bytes)\n",
    "# print 'Size of imgXZ in memory:', imgXZ.nbytes/1E6, 'MB'\n",
    "# print 'Size of imgYZ in memory:', imgYZ.nbytes/1E6, 'MB'\n",
    "# print 'Size of imgXZHits in memory:', imgXZHits.nbytes/1E6, 'MB'\n",
    "# print 'Size of imgYZHits in memory:', imgYZHits.nbytes/1E6, 'MB'"
   ]
  },
  {
   "cell_type": "code",
   "execution_count": 5,
   "metadata": {},
   "outputs": [
    {
     "name": "stdout",
     "output_type": "stream",
     "text": [
      "Saving raw image of detector hits to: Detector_Raw_Data_XZ.pdf\n"
     ]
    },
    {
     "data": {
      "image/png": "[encoded data removed]",
      "text/plain": [
       "<matplotlib.figure.Figure at 0xa1a96a0>"
      ]
     },
     "metadata": {},
     "output_type": "display_data"
    }
   ],
   "source": [
    "##### Plot the detector raw data\n",
    "figRawXZ = plt.figure(figsize=(15, 15))\n",
    "axRawXZ = ImageGrid(figRawXZ, 111, # similar to subplot(111)\n",
    "                nrows_ncols = (1, 1), # creates 2x2 grid of axes\n",
    "                axes_pad=0., # pad between axes in inch.\n",
    "                cbar_location=\"right\",\n",
    "                cbar_mode=\"single\",\n",
    "                cbar_size=\"4%\",\n",
    "                cbar_pad=-0.01,\n",
    "                )\n",
    "\n",
    "# Color map\n",
    "cmap = brewer2mpl.get_map('Blues', 'sequential', 3, reverse=False).mpl_colormap\n",
    "cmap.set_under('black')\n",
    "\n",
    "# Load the detector hits into matplotlib\n",
    "H1 = axRawXZ[0].imshow(np.transpose(imgXZ), cmap = cmap, origin='lower',\n",
    "               norm = Normalize(vmin=np.min(imgXZ)+1,vmax=np.max(imgXZ), clip=False), interpolation='nearest')\n",
    "\n",
    "# With cbar_mode=\"single\", cax attribute of all axes are identical.\n",
    "cbar = plt.colorbar(H1, cax = axRawXZ.cbar_axes[0])\n",
    "cbar.solids.set_edgecolor(\"face\")\n",
    "cbar.ax.set_ylabel('Ionization Electrons')\n",
    "\n",
    "for cax in axRawXZ.cbar_axes:\n",
    "    cax.toggle_label(True)\n",
    "\n",
    "# Axis Range\n",
    "# axRawXZ[0].set_xlim(0,210)\n",
    "# axRawXZ[0].set_ylim(0,210)\n",
    "# axRawXZ[0].set_xlim(100,200)\n",
    "# axRawXZ[0].set_ylim(100,150)\n",
    "\n",
    "# Axis Labels\n",
    "axRawXZ[0].set_xlabel('X axis')\n",
    "axRawXZ[0].set_ylabel('Z axis')\n",
    "\n",
    "# xTicks = np.array([50,100,150,200])\n",
    "# yTicks = np.array([50,100,150,200])\n",
    "\n",
    "# axRawXZ[0].set_xticks(xTicks) \n",
    "# axRawXZ[0].set_yticks(yTicks) \n",
    "\n",
    "# Turns off grid on the left Axis.\n",
    "seaborn.set_style(\"whitegrid\", {'axes.grid' : False})\n",
    "\n",
    "# Save the figure \n",
    "fileRawXZ ='Detector_Raw_Data_XZ.pdf'\n",
    "plt.savefig(fileRawXZ)\n",
    "print 'Saving raw image of detector hits to: ' + fileRawXZ\n",
    "\n",
    "# Show the image\n",
    "plt.show(figRawXZ)"
   ]
  },
  {
   "cell_type": "code",
   "execution_count": 6,
   "metadata": {},
   "outputs": [
    {
     "name": "stdout",
     "output_type": "stream",
     "text": [
      "Saving raw image of detector hits to: Detector_Hits_XZ.pdf\n"
     ]
    },
    {
     "data": {
      "image/png": "[encoded data removed]",
      "text/plain": [
       "<matplotlib.figure.Figure at 0xa195c18>"
      ]
     },
     "metadata": {},
     "output_type": "display_data"
    }
   ],
   "source": [
    "##### Plot the detector hits\n",
    "figHitsXZ = plt.figure(figsize=(15, 15))\n",
    "axHitsXZ = ImageGrid(figHitsXZ, 111, # similar to subplot(111)\n",
    "                nrows_ncols = (1, 1), # creates 2x2 grid of axes\n",
    "                axes_pad=0.\n",
    "                )\n",
    "\n",
    "# Load the detector hits into matplotlib\n",
    "axHitsXZ[0].plot(imgXZHits[:,0], imgXZHits[:,1], '.', ms=2, color='red') \n",
    "\n",
    "# Axis Range\n",
    "# axHitsXZ[0].set_xlim(0,211)\n",
    "# axHitsXZ[0].set_ylim(0,211)\n",
    "axHitsXZ[0].set_xlim(0,rowsXZ)\n",
    "axHitsXZ[0].set_ylim(0,colsXZ)\n",
    "\n",
    "# Axis Labels\n",
    "axHitsXZ[0].set_xlabel('X axis')\n",
    "axHitsXZ[0].set_ylabel('Z axis')\n",
    "\n",
    "# xTicks = np.array([50,100,150,200])\n",
    "# yTicks = np.array([50,100,150,200])\n",
    "\n",
    "# axHitsXZ[0].set_xticks(xTicks) \n",
    "# axHitsXZ[0].set_yticks(yTicks) \n",
    "\n",
    "# Save the figure \n",
    "fileHitsXZ ='Detector_Hits_XZ.pdf'\n",
    "plt.savefig(fileHitsXZ)\n",
    "print 'Saving raw image of detector hits to: ' + fileHitsXZ\n",
    "\n",
    "# Show the image\n",
    "plt.show(figHitsXZ)"
   ]
  },
  {
   "cell_type": "code",
   "execution_count": 7,
   "metadata": {
    "collapsed": true
   },
   "outputs": [],
   "source": [
    "# ##### Plot the detector hits in both projections\n",
    "# figHits, (axHitsXZ, axHitsYZ) = plt.subplots(nrows=1, ncols=2, figsize=(15, 7.5))\n",
    "\n",
    "# # Load the detector hits into matplotlib\n",
    "# axHitsXZ.plot(imgXZHits[:,0], imgXZHits[:,1], '.', ms=3, color='red') \n",
    "# #axHitsXZ.scatter(imgXZHits[:,0], imgXZHits[:,1], color='red', marker='o', s=0.5)\n",
    "# axHitsYZ.plot(imgYZHits[:,0], imgYZHits[:,1], '.', ms=3, color='red') \n",
    "# #axHitsYZ.scatter(imgYZHits[:,0], imgYZHits[:,1], color='red', marker='o', s=0.5)\n",
    "\n",
    "# # Axis Range\n",
    "# axHitsXZ.set_xlim(0,211)\n",
    "# axHitsXZ.set_ylim(0,211)\n",
    "# axHitsYZ.set_xlim(0,211)\n",
    "# axHitsYZ.set_ylim(0,211)\n",
    "\n",
    "# # Axis Labels\n",
    "# axHitsXZ.set_xlabel('X axis')\n",
    "# axHitsXZ.set_ylabel('Z axis')\n",
    "# axHitsYZ.set_xlabel('Y axis')\n",
    "\n",
    "# # Figure Properties\n",
    "# axHitsXZ.set_title('Detector hits in XZ projection')\n",
    "# axHitsYZ.set_title('Detector hits in YZ projection')\n",
    "# figHits.subplots_adjust(wspace=0.08)\n",
    "\n",
    "# # Save the figure \n",
    "# fileHits ='Detector_Hits.pdf'\n",
    "# plt.savefig(fileHits)\n",
    "# print 'Saving plot of detector hits to: ' + fileHits\n",
    "\n",
    "# # Show the image\n",
    "# plt.show(figHits)"
   ]
  },
  {
   "cell_type": "markdown",
   "metadata": {},
   "source": [
    "# Track segment initialization\n",
    "\n",
    "The track segment initialization is a process which generates a plausible set of track segments between pairs of detector hits. A track segment is defined as the straight line connecting a \"forward\" and \"backward\" pair of hits. The terms forward and backward describe the relative position of a hit in relation to another hit and the principal detector axis. For AdEPT, I have arbitrarily chosen the Z-axis as the principal detector axis. As such, detector hits which have Z coordinates larger than the Z of the search positions are considered \"forward\" of the current search hit. Similarly if the their Z coordinate is smaller, they are considered \"backward\" of the current search hit.\n",
    "\n",
    "In principle, every detector hit can be connected to another to form a track segment. However, this is approach is combinatorially expensive and not an accurate representation of the physics describing the traversal of a charged particle through the detector. Instead, it is better to limit the track segment initialization to detector hits which are classified as neighbours and within a small radius of each other. \n",
    "\n",
    "The algorithm I used to implement the track segment initialization for AdEPT is described below:\n",
    "\n",
    "First:\n",
    "\n",
    "+ Implement a kd-tree or quadtree of detector hits that can be used for a nearest neighbour search\n",
    "\n",
    "For each detector hit:\n",
    "\n",
    "1. Perform a nearest neighbour search to build a list of neighbours within a small search radius (rSearch) of each hit\n",
    "+ Filter the neighbour list and select only those neighbours which are forward of the current hit with respect to the principal axis\n",
    "+ Generate a track segment for each remaining forward neighbour, pointing from that hit to the current central hit\n",
    "+ If no forward track segments are created, expand the search radius by a fixed step (rStep) and repeat the above procedure until either a track segment is generated or the maximum search radius (rMax) is reached.\n",
    "+ If multiple forward track segments are created, filter out longer copies of track segments with the same slope. This step avoids making long track segments which \"jump\" over several hits."
   ]
  },
  {
   "cell_type": "markdown",
   "metadata": {
    "scrolled": true
   },
   "source": [
    "# Build a kd-tree of detector hits\n",
    "\n",
    "One of the fastest methods to perform a nearest neighbour search on a highly structured and heterogenous data sets, such as the AdEPT track structures, is by storring the detector hits into some sort of a tree structure. Some useful tree structures which could be considered for this application are the quadtree and kd-tree. For the pure hardware implementation, a quadtree would probably be a better approach, however, Python has some efficient and well tested kd-tree implementations and I have opted to used these instead of writing and optimizing my own quadtree implementation.\n",
    "\n",
    "The SciPy module has two well tested kd-tree implementations: KDTree and cKDTree. The fundamental difference between the two is that cKDTree has been optimized using C function calls and in some cases it's been shown to be faster than the pure Python implementation. However, for highly structured data such as the one expected from tracks in the AdEPT instrument, the Python implementation has demonstrated better benchmarking results. See link: https://jakevdp.github.io/blog/2013/04/29/benchmarking-nearest-neighbor-searches-in-python/\n"
   ]
  },
  {
   "cell_type": "code",
   "execution_count": 8,
   "metadata": {
    "collapsed": true,
    "scrolled": false
   },
   "outputs": [],
   "source": [
    "from scipy.spatial import KDTree, cKDTree\n",
    "\n",
    "# Insert XZ hits into a kd-tree\n",
    "# %timeit treeXZ = cKDTree(imgXZHits,leafsize=15)\n",
    "treeXZ = cKDTree(imgXZHits,leafsize=15)"
   ]
  },
  {
   "cell_type": "markdown",
   "metadata": {},
   "source": [
    "# Initial track segment generation"
   ]
  },
  {
   "cell_type": "code",
   "execution_count": 9,
   "metadata": {
    "collapsed": true
   },
   "outputs": [],
   "source": [
    "# Function to calculate the angle between a track segment and the Z-axis\n",
    "# Return angle and magnitude\n",
    "#\n",
    "# Expects a numpy ndarrays [x_i z_i x_f z_f] where:\n",
    "# x_i - starting x coordinate\n",
    "# z_i - starting z coordinate\n",
    "# x_f - final x coordinate\n",
    "# z_f - final z coordinate\n",
    "\n",
    "def calcSegmentAngleLength(segA):\n",
    "    # Create vectors\n",
    "    vA = [(segA[2]-segA[0]),(segA[3]-segA[1])]\n",
    "    vZ = [(0),(1)]\n",
    "    vX = [(1),(0)]\n",
    "    \n",
    "    # Calculate the dot product between the input vector and Z/X axis\n",
    "    dotvAZ = np.dot(vA,vZ)\n",
    "    dotvAX = np.dot(vA,vX)\n",
    "    \n",
    "    # Calculate the magnitude of the input vector\n",
    "    magA = np.dot(vA, vA)**0.5\n",
    "    \n",
    "    # Return the angle in degrees\n",
    "    if dotvAX >= 0:\n",
    "        return np.degrees(np.arccos(dotvAZ/magA)),magA\n",
    "    else:\n",
    "        return -1*np.degrees(np.arccos(dotvAZ/magA)),magA"
   ]
  },
  {
   "cell_type": "code",
   "execution_count": 10,
   "metadata": {},
   "outputs": [
    {
     "name": "stdout",
     "output_type": "stream",
     "text": [
      "Initial track segments: 431\n"
     ]
    }
   ],
   "source": [
    "# The minimum and maximum search radii\n",
    "rMin = 5\n",
    "rMax = 45\n",
    "rStep = 1\n",
    "\n",
    "# Acceptance angle for overlaping tracks (+/- degrees)\n",
    "thetaAcpt = 15\n",
    "\n",
    "# Initialize a list which stores the track segments\n",
    "# trackSeg[0:1] = X,Z pair for Hit 1\n",
    "# trackSeg[2:3] = X,Z pair for Hit 2\n",
    "trackSeg = []\n",
    "\n",
    "# Loop through all of the hits and find their nearest neighbours starting from the smallest radius to the largest\n",
    "# The principal axis is Z\n",
    "\n",
    "# Move in the forward direction\n",
    "for (x,z) in imgXZHits:\n",
    "    # Start with the smallest search radius\n",
    "    rSearch = rMin\n",
    "    \n",
    "    # Initialize a list of potential track segments from the current hit\n",
    "    potTrackSeg = []\n",
    "    \n",
    "    # Find all of the nearest neighbours of the current \n",
    "    # Search until you find something or the search radius exceeds the maximum allowed limit\n",
    "    while rSearch < rMax:\n",
    "        # Find all neighbouring hits within distance r of the current hit\n",
    "        hitsNear = imgXZHits[treeXZ.query_ball_point([x, z], rSearch)]\n",
    "        \n",
    "        # Filter hits in the forward direction\n",
    "        hitsForward = hitsNear[hitsNear[:,1] >= z]\n",
    "        \n",
    "        # Are there any hits forward of the current search hit?\n",
    "        if len(hitsForward) > 0: \n",
    "            # Loop through the potential list of forward neighbours\n",
    "            for (xNN,zNN) in hitsForward:\n",
    "                # Skip the current search hit since it will also be found in the tree\n",
    "                if (xNN,zNN) != (x,z):\n",
    "                    # We need to be careful for hits on the same Z axis such that the potential track segments\n",
    "                    # are connected from lowest X coordinate to the highest \n",
    "                    # This will help to filter out overlaping track segments\n",
    "                    if (zNN == z) and (xNN > x):\n",
    "                        # Same Z\n",
    "                        # Connect low X to high X\n",
    "                        potTrackSeg.append(np.array([x,z,xNN,zNN]))\n",
    "                    elif (zNN > z):\n",
    "                        potTrackSeg.append(np.array([x,z,xNN,zNN]))\n",
    "            \n",
    "            # Did we make any potential track segments\n",
    "            if len(potTrackSeg) > 0:\n",
    "                # Yes, but they need to be filtered for duplicate angles\n",
    "                # If multiple tracks have approximately the same angle, keep the shortest one\n",
    "                for i in range(len(potTrackSeg)):\n",
    "                    # Assume the track segment is a good candidate until otherwise\n",
    "                    goodSegment = True\n",
    "                    for j in range(len(potTrackSeg)):\n",
    "                        if i != j:\n",
    "                            # Compare angles & lengths\n",
    "                            segi,leni = calcSegmentAngleLength(potTrackSeg[i])\n",
    "                            segj,lenj = calcSegmentAngleLength(potTrackSeg[j])\n",
    "                            if np.absolute(segi-segj) < thetaAcpt:\n",
    "                                # These segments are too close in angle\n",
    "                                if leni > lenj:\n",
    "                                    # The current search segment is not the shortest and therefore not a valid segment\n",
    "                                    goodSegment = False\n",
    "                                    break\n",
    "                                    \n",
    "                    # If this segment is still good, append to list\n",
    "                    if goodSegment == True:\n",
    "                        trackSeg.append(potTrackSeg[i])\n",
    "                \n",
    "                # We've made a good track segment. Let's stop the search here!\n",
    "                rSearch = rMax \n",
    "            else:\n",
    "                # Not yet! Increase the search radius\n",
    "                rSearch += rStep\n",
    "        else:\n",
    "            # Not yet! Increase the search radius\n",
    "            rSearch += rStep\n",
    "\n",
    "# Stack the list vertically into a numpy array\n",
    "trackSeg = np.vstack(trackSeg)\n",
    "\n",
    "# Filter for unique track segments\n",
    "trackSeg= np.vstack({tuple(row) for row in trackSeg})\n",
    "\n",
    "# Sort the track segments\n",
    "# First by column 1 in ascending order \n",
    "# Then by column 0 in ascending order\n",
    "# Then by column 3 in ascending order\n",
    "# Then by column 2 in ascending order\n",
    "trackSeg = trackSeg[np.lexsort((trackSeg[:, 2],trackSeg[:, 3],trackSeg[:, 0],trackSeg[:, 1]))]\n",
    "\n",
    "# Output some useful information\n",
    "print 'Initial track segments:', len(trackSeg)"
   ]
  },
  {
   "cell_type": "markdown",
   "metadata": {},
   "source": [
    "# Plot the initial track segments"
   ]
  },
  {
   "cell_type": "code",
   "execution_count": 11,
   "metadata": {},
   "outputs": [
    {
     "name": "stdout",
     "output_type": "stream",
     "text": [
      "Saving plot of initial track segments for the XZ projection to: Track_Segments_Initial_CA_XZ.pdf\n"
     ]
    },
    {
     "data": {
      "image/png": "[encoded data removed]",
      "text/plain": [
       "<matplotlib.figure.Figure at 0xbecd320>"
      ]
     },
     "metadata": {},
     "output_type": "display_data"
    }
   ],
   "source": [
    "##### Plot initial track segments for XZ projection\n",
    "figTrackSegXZ = plt.figure(figsize=(15, 15))\n",
    "axTrackSegXZ = ImageGrid(figTrackSegXZ, 111, # similar to subplot(111)\n",
    "                nrows_ncols = (1, 1), # creates 2x2 grid of axes\n",
    "                axes_pad=0.\n",
    "                )\n",
    "\n",
    "# Use LineCollection to efficiently plot the many track segments\n",
    "lc = mc.LineCollection(zip(zip(trackSeg[:,0],trackSeg[:,1]),zip(trackSeg[:,2],trackSeg[:,3])), linewidths=1,color='k')\n",
    "lc2 = mc.LineCollection(zip(zip(trackSeg[:,0],trackSeg[:,1]),zip(trackSeg[:,2],trackSeg[:,3])), linewidths=1,color='k')\n",
    "H1 = axTrackSegXZ[0].add_collection(lc)\n",
    "\n",
    "# Load the image data from CV2 into matplotlib\n",
    "axTrackSegXZ[0].plot(imgXZHits[:,0], imgXZHits[:,1], '.', ms=2, color='red') \n",
    "\n",
    "# Axis Properties\n",
    "axTrackSegXZ[0].set_xlim(500,rowsXZ)\n",
    "axTrackSegXZ[0].set_ylim(150,550)\n",
    "# axTrackSegXZ[0].set_xlim(100,200)\n",
    "# axTrackSegXZ[0].set_ylim(100,150)\n",
    "\n",
    "axTrackSegXZ[0].set_xlabel('X axis')\n",
    "axTrackSegXZ[0].set_ylabel('Z axis')\n",
    "\n",
    "# xTicks = np.array([50,100,150,200])\n",
    "# yTicks = np.array([50,100,150,200])\n",
    "\n",
    "# axTrackSegXZ[0].set_xticks(xTicks) \n",
    "# axTrackSegXZ[0].set_yticks(yTicks) \n",
    "\n",
    "# Figure Properties\n",
    "# axTrackHitsXZ.set_title('Detector hits in XZ projection')\n",
    "# axTrackSegXZ.set_title('Initial Track Segments in XZ Projection')\n",
    "# figTrackSegXZ.subplots_adjust(wspace=0.08)\n",
    "\n",
    "# # Inset magnified plot\n",
    "# axIns = zoomed_inset_axes(axTrackSegXZ[0],1.75,loc=4) # zoom=6\n",
    "# axIns.plot(imgXZHits[:,0], imgXZHits[:,1], '.', ms=10, color='red') \n",
    "# axIns.add_collection(lc2)\n",
    "\n",
    "# # sub region of the original image\n",
    "# # x1, x2, y1, y2 = 20, 50, 50, 80\n",
    "# x1, x2, y1, y2 = 5, 35, 100, 150\n",
    "# axIns.set_xlim(x1, x2)\n",
    "# axIns.set_ylim(y1, y2)\n",
    "# plt.xticks(visible=False)\n",
    "# plt.yticks(visible=False)\n",
    "\n",
    "# # draw a bbox of the region of the inset axes in the parent axes and\n",
    "# # connecting lines between the bbox and the inset axes area\n",
    "# mark_inset(axTrackSegXZ[0], axIns, loc1=1, loc2=3, fc=\"0.95\", ec=\"0.05\")\n",
    "\n",
    "# Save the figure \n",
    "fileTrackSegXZ ='Track_Segments_Initial_CA_XZ.pdf'\n",
    "plt.savefig(fileTrackSegXZ)\n",
    "print 'Saving plot of initial track segments for the XZ projection to: ' + fileTrackSegXZ\n",
    "\n",
    "# Show the image\n",
    "plt.show(figTrackSegXZ)"
   ]
  },
  {
   "cell_type": "markdown",
   "metadata": {},
   "source": [
    "# Calculating the angle between neighbouring track segments\n",
    "\n",
    "The angle between neighbouring track segments is calculated using the dot product method as follows:\n",
    "\n",
    "1. Create two vectors for each track segment\n"
   ]
  },
  {
   "cell_type": "code",
   "execution_count": 12,
   "metadata": {
    "collapsed": true
   },
   "outputs": [],
   "source": [
    "# Function to calculate the angle between two neighbouring track segments\n",
    "#\n",
    "# Expects two numpy ndarrays [x_i z_i x_f z_f] where:\n",
    "# x_i - starting x coordinate\n",
    "# z_i - starting z coordinate\n",
    "# x_f - final x coordinate\n",
    "# z_f - final z coordinate\n",
    "\n",
    "def calcTrackSegmentAngle(segA, segB):\n",
    "    # Create vectors\n",
    "    vA = [(segA[2]-segA[0]),(segA[3]-segA[1])]\n",
    "    vB = [(segB[2]-segB[0]),(segB[3]-segB[1])]\n",
    "    \n",
    "    # Calculate the dot product between the vectorss\n",
    "    dotvAvB = np.dot(vA,vB)\n",
    "    \n",
    "    # Calculate the magnitude of each vector\n",
    "    magA = np.dot(vA, vA)**0.5\n",
    "    magB = np.dot(vB, vB)**0.5\n",
    "    \n",
    "    # Return the angle in degrees\n",
    "    return np.degrees(np.arccos(dotvAvB/magA/magB))"
   ]
  },
  {
   "cell_type": "markdown",
   "metadata": {},
   "source": [
    "# Cellular Automaton Forward\n",
    "\n"
   ]
  },
  {
   "cell_type": "code",
   "execution_count": 13,
   "metadata": {},
   "outputs": [
    {
     "name": "stderr",
     "output_type": "stream",
     "text": [
      "C:\\Users\\Deevy\\Programs_x64\\envs\\AdEPT\\lib\\site-packages\\ipykernel_launcher.py:22: RuntimeWarning: invalid value encountered in arccos\n"
     ]
    }
   ],
   "source": [
    "# Threshold angle between neighbouring track segments that share a common middle point\n",
    "# In degrees\n",
    "thetaMax = 45\n",
    "\n",
    "# Number of track segments\n",
    "numTrackSeg = trackSeg.shape[0]\n",
    "\n",
    "# State of each track segment\n",
    "stateCurrent = np.zeros(numTrackSeg, dtype=np.int64)\n",
    "\n",
    "# Run the cellular automaton\n",
    "while True:\n",
    "    # Initialize the update state array\n",
    "    stateUpdate = np.zeros(numTrackSeg, dtype=np.int64)\n",
    "\n",
    "    # Loop through all the track segments\n",
    "    for i in range(0,numTrackSeg):\n",
    "        for j in range(i+1,numTrackSeg):\n",
    "            # Find neighbouring track segments in the forward direction and with the same state\n",
    "            if np.equal(trackSeg[i,2:4],trackSeg[j,0:2]).all() and (stateCurrent[i] == stateCurrent[j]):\n",
    "                # Is the angle between track segments below our threshold angle?\n",
    "                segAngle = calcTrackSegmentAngle(trackSeg[i],trackSeg[j])\n",
    "                if  segAngle < thetaMax:\n",
    "                    # The angle between neighbouring track segments is within the threshold angle\n",
    "                    # Update the state for this neighbours\n",
    "                    stateUpdate[j] = 1\n",
    "    \n",
    "    if np.sum(stateUpdate) > 0:\n",
    "        # Update the status of all the track segments\n",
    "        stateCurrent += stateUpdate\n",
    "    else:\n",
    "        break"
   ]
  },
  {
   "cell_type": "markdown",
   "metadata": {},
   "source": [
    "# Plot the track segments after the forward Cellular Automaton"
   ]
  },
  {
   "cell_type": "code",
   "execution_count": 14,
   "metadata": {},
   "outputs": [
    {
     "name": "stdout",
     "output_type": "stream",
     "text": [
      "Saving plot of initial track segments for the XZ projection to: Track_Segments_Forward_CA_XZ.pdf\n"
     ]
    },
    {
     "data": {
      "image/png": "[encoded data removed]",
      "text/plain": [
       "<matplotlib.figure.Figure at 0xbb10f28>"
      ]
     },
     "metadata": {},
     "output_type": "display_data"
    }
   ],
   "source": [
    "# Filter track segments that still have 0 state\n",
    "trackSegCA_0 = trackSeg[np.where(stateCurrent==0)]\n",
    "trackSegCA_NOT_0 = trackSeg[np.where(stateCurrent>0)]\n",
    "\n",
    "##### Plot initial track segments for XZ projection\n",
    "figTrackSegCAXZ, (axTrackHitsXZ,axTrackSegCAXZ) = plt.subplots(nrows=1, ncols=2, figsize=(15, 7.5))\n",
    "\n",
    "# Use LineCollection to efficiently plot the many track segments\n",
    "lc_0 = mc.LineCollection(zip(zip(trackSegCA_0[:,0],trackSegCA_0[:,1]),zip(trackSegCA_0[:,2],trackSegCA_0[:,3])), linewidths=0.25,color='k')\n",
    "axTrackSegCAXZ.add_collection(lc_0)\n",
    "\n",
    "lc = mc.LineCollection(zip(zip(trackSeg[:,0],trackSeg[:,1]),zip(trackSeg[:,2],trackSeg[:,3])), linewidths=0.25,color='k')\n",
    "axTrackHitsXZ.add_collection(lc)\n",
    "\n",
    "# Use a colormap to the increasing \"state\" of track segments\n",
    "# LineCollection wants a sequence of RGBA tuples\n",
    "cmap = brewer2mpl.get_map('YlGnBu', 'sequential', 9, reverse=True).mpl_colormap\n",
    "\n",
    "lc_NOT_0 = mc.LineCollection(zip(zip(trackSegCA_NOT_0[:,0],trackSegCA_NOT_0[:,1]),zip(trackSegCA_NOT_0[:,2],trackSegCA_NOT_0[:,3])),\n",
    "                             cmap=cmap,\n",
    "                             norm=plt.Normalize(stateCurrent[np.where(stateCurrent>0)].min(), stateCurrent[np.where(stateCurrent>0)].max()))\n",
    "lc_NOT_0.set_array(stateCurrent[np.where(stateCurrent>0)])\n",
    "lc_NOT_0.set_linewidth(0.75)\n",
    "axTrackSegCAXZ.add_collection(lc_NOT_0)\n",
    "\n",
    "# Load the image data from CV2 into matplotlib\n",
    "axTrackSegCAXZ.plot(imgXZHits[:,0], imgXZHits[:,1], '.', ms=3, color='red') \n",
    "axTrackHitsXZ.plot(imgXZHits[:,0], imgXZHits[:,1], '.', ms=3, color='red')\n",
    "\n",
    "# Axis Properties\n",
    "axTrackHitsXZ.set_xlim(0,211)\n",
    "axTrackHitsXZ.set_ylim(0,211)\n",
    "axTrackSegCAXZ.set_xlim(0,211)\n",
    "axTrackSegCAXZ.set_ylim(0,211)\n",
    "\n",
    "axTrackHitsXZ.set_xlabel('X axis')\n",
    "axTrackSegCAXZ.set_xlabel('X axis')\n",
    "axTrackHitsXZ.set_ylabel('Z axis')\n",
    "\n",
    "plt.setp(axTrackSegCAXZ.get_yticklabels(), visible=False)\n",
    "\n",
    "# Colorbar, make sure to specify tick locations to match desired ticklabels\n",
    "cbar = figTrackSegCAXZ.colorbar(lc_NOT_0)\n",
    "\n",
    "# Figure Properties\n",
    "axTrackHitsXZ.set_title('Initial Track Segments in XZ projection')\n",
    "axTrackSegCAXZ.set_title('Cellular Automaton Track Segments in XZ Projection')\n",
    "figTrackSegCAXZ.subplots_adjust(wspace=0.01)\n",
    "\n",
    "# Save the figure \n",
    "fileTrackSegCAXZ ='Track_Segments_Forward_CA_XZ.pdf'\n",
    "plt.savefig(fileTrackSegCAXZ)\n",
    "print 'Saving plot of initial track segments for the XZ projection to: ' + fileTrackSegCAXZ\n",
    "\n",
    "# Show the image\n",
    "plt.show(figTrackSegCAXZ)\n"
   ]
  },
  {
   "cell_type": "code",
   "execution_count": 15,
   "metadata": {},
   "outputs": [
    {
     "name": "stdout",
     "output_type": "stream",
     "text": [
      "Saving plot of initial track segments for the XZ projection to: Track_Segments_Forward_CA_XZ.pdf\n"
     ]
    },
    {
     "data": {
      "image/png": "[encoded data removed]",
      "text/plain": [
       "<matplotlib.figure.Figure at 0xee3e0b8>"
      ]
     },
     "metadata": {},
     "output_type": "display_data"
    }
   ],
   "source": [
    "# Filter track segments that still have 0 state\n",
    "trackSegCA_0 = trackSeg[np.where(stateCurrent==0)]\n",
    "trackSegCA_NOT_0 = trackSeg[np.where(stateCurrent>0)]\n",
    "\n",
    "##### Plot track segments for XZ projection after forward Cellular Automaton\n",
    "figTrackSegCAXZ = plt.figure(figsize=(15, 15))\n",
    "axTrackSegCAXZ = ImageGrid(figTrackSegCAXZ, 111, # similar to subplot(111)\n",
    "                nrows_ncols = (1, 1), # creates 2x2 grid of axes\n",
    "                axes_pad=0., # pad between axes in inch.\n",
    "                cbar_location=\"right\",\n",
    "                cbar_mode=\"single\",\n",
    "                cbar_size=\"4%\",\n",
    "                cbar_pad=-0.01,\n",
    "                )\n",
    "\n",
    "# Use LineCollection to efficiently plot the many track segments\n",
    "lc_0 = mc.LineCollection(zip(zip(trackSegCA_0[:,0],trackSegCA_0[:,1]),zip(trackSegCA_0[:,2],trackSegCA_0[:,3])), linewidths=0.25,color='k')\n",
    "axTrackSegCAXZ[0].add_collection(lc_0)\n",
    "\n",
    "# Use a colormap to the increasing \"state\" of track segments\n",
    "# LineCollection wants a sequence of RGBA tuples\n",
    "cmap = brewer2mpl.get_map('YlGnBu', 'sequential', 9, reverse=True).mpl_colormap\n",
    "\n",
    "lc_NOT_0 = mc.LineCollection(zip(zip(trackSegCA_NOT_0[:,0],trackSegCA_NOT_0[:,1]),zip(trackSegCA_NOT_0[:,2],trackSegCA_NOT_0[:,3])),\n",
    "                             cmap=cmap,\n",
    "                             norm=plt.Normalize(stateCurrent[np.where(stateCurrent>0)].min(), stateCurrent[np.where(stateCurrent>0)].max()))\n",
    "lc_NOT_0.set_array(stateCurrent[np.where(stateCurrent>0)])\n",
    "lc_NOT_0.set_linewidth(0.25)\n",
    "axTrackSegCAXZ[0].add_collection(lc_NOT_0)\n",
    "\n",
    "lc_NOT_0_2 = mc.LineCollection(zip(zip(trackSegCA_NOT_0[:,0],trackSegCA_NOT_0[:,1]),zip(trackSegCA_NOT_0[:,2],trackSegCA_NOT_0[:,3])),\n",
    "                             cmap=cmap,\n",
    "                             norm=plt.Normalize(stateCurrent[np.where(stateCurrent>0)].min(), stateCurrent[np.where(stateCurrent>0)].max()))\n",
    "lc_NOT_0_2.set_array(stateCurrent[np.where(stateCurrent>0)])\n",
    "lc_NOT_0_2.set_linewidth(0.25)\n",
    "\n",
    "# Load the image data from CV2 into matplotlib\n",
    "axTrackSegCAXZ[0].plot(imgXZHits[:,0], imgXZHits[:,1], '.', ms=3, color='red') \n",
    "\n",
    "# With cbar_mode=\"single\", cax attribute of all axes are identical.\n",
    "cbar = plt.colorbar(lc_NOT_0, cax = axTrackSegCAXZ.cbar_axes[0])\n",
    "cbar.solids.set_edgecolor(\"face\")\n",
    "cbar.ax.set_ylabel('Track Segment State')\n",
    "\n",
    "for cax in axRawXZ.cbar_axes:\n",
    "    cax.toggle_label(True)\n",
    "\n",
    "# Axis Properties\n",
    "axTrackSegCAXZ[0].set_xlim(500,rowsXZ)\n",
    "axTrackSegCAXZ[0].set_ylim(150,550)\n",
    "# axTrackSegCAXZ[0].set_xlim(100,200)\n",
    "# axTrackSegCAXZ[0].set_ylim(100,150)\n",
    "\n",
    "axTrackSegCAXZ[0].set_xlabel('X axis')\n",
    "axTrackSegCAXZ[0].set_ylabel('Z axis')\n",
    "\n",
    "# xTicks = np.array([50,100,150,200])\n",
    "# yTicks = np.array([50,100,150,200])\n",
    "\n",
    "# axTrackSegCAXZ[0].set_xticks(xTicks) \n",
    "# axTrackSegCAXZ[0].set_yticks(yTicks) \n",
    "\n",
    "# Figure Properties\n",
    "# axTrackSegCAXZ.set_title('Cellular Automaton Track Segments in XZ Projection')\n",
    "\n",
    "# Inset magnified plot\n",
    "# axIns = zoomed_inset_axes(axTrackSegCAXZ[0],1.75,loc=4) # zoom=6\n",
    "# axIns.plot(imgXZHits[:,0], imgXZHits[:,1], '.', ms=10, color='red') \n",
    "# axIns.add_collection(lc_NOT_0_2)\n",
    "\n",
    "# sub region of the original image\n",
    "# x1, x2, y1, y2 = 20, 50, 50, 80\n",
    "# x1, x2, y1, y2 = 5, 35, 100, 150\n",
    "# axIns.set_xlim(x1, x2)\n",
    "# axIns.set_ylim(y1, y2)\n",
    "# plt.xticks(visible=False)\n",
    "# plt.yticks(visible=False)\n",
    "\n",
    "# draw a bbox of the region of the inset axes in the parent axes and\n",
    "# connecting lines between the bbox and the inset axes area\n",
    "# mark_inset(axTrackSegCAXZ[0], axIns, loc1=1, loc2=3, fc=\"0.95\", ec=\"0.05\")\n",
    "\n",
    "# Save the figure \n",
    "fileTrackSegCAXZ ='Track_Segments_Forward_CA_XZ.pdf'\n",
    "plt.savefig(fileTrackSegCAXZ)\n",
    "print 'Saving plot of initial track segments for the XZ projection to: ' + fileTrackSegCAXZ\n",
    "\n",
    "# Show the image\n",
    "plt.show(figTrackSegCAXZ)"
   ]
  },
  {
   "cell_type": "code",
   "execution_count": null,
   "metadata": {
    "collapsed": true
   },
   "outputs": [],
   "source": []
  }
 ],
 "metadata": {
  "celltoolbar": "Raw Cell Format",
  "kernelspec": {
   "display_name": "Python 2",
   "language": "python",
   "name": "python2"
  },
  "language_info": {
   "codemirror_mode": {
    "name": "ipython",
    "version": 2
   },
   "file_extension": ".py",
   "mimetype": "text/x-python",
   "name": "python",
   "nbconvert_exporter": "python",
   "pygments_lexer": "ipython2",
   "version": "2.7.13"
  }
 },
 "nbformat": 4,
 "nbformat_minor": 1
}
